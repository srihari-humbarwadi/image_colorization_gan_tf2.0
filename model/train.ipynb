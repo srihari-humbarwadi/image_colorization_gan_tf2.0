{
 "cells": [
  {
   "cell_type": "code",
   "execution_count": 1,
   "metadata": {},
   "outputs": [
    {
     "name": "stdout",
     "output_type": "stream",
     "text": [
      "TensorFlow 2.0.0\n"
     ]
    }
   ],
   "source": [
    "import tensorflow as tf\n",
    "print('TensorFlow', tf.__version__)"
   ]
  },
  {
   "cell_type": "code",
   "execution_count": 2,
   "metadata": {},
   "outputs": [],
   "source": [
    "def downscale_conv2D(tensor, n_filters, kernel_size=4, strides=2, name=None, use_bn=True):\n",
    "    _x = tf.keras.layers.Conv2D(filters=n_filters,\n",
    "                                kernel_size=kernel_size,\n",
    "                                strides=strides, \n",
    "                                padding='same',\n",
    "                                use_bias=False,\n",
    "                                name='downscale_block_' + name + '_conv2d', \n",
    "                                activation=None)(tensor)\n",
    "    if use_bn:\n",
    "        _x = tf.keras.layers.BatchNormalization(name='downscale_block_' + name + '_bn')(_x)\n",
    "    _x = tf.keras.layers.LeakyReLU(alpha=0.2, name='downscale_block_' + name + '_lrelu')(_x)\n",
    "    return _x\n",
    "\n",
    "def upscale_deconv2d(tensor, n_filters, kernel_size=4, strides=2, name=None):\n",
    "    _x = tf.keras.layers.Conv2DTranspose(filters=n_filters,\n",
    "                                         kernel_size=kernel_size,\n",
    "                                         strides=strides, \n",
    "                                         padding='same',\n",
    "                                         use_bias=False,\n",
    "                                         name='upscale_block_' + name + '_conv2d', \n",
    "                                         activation=None)(tensor)\n",
    "    _x = tf.keras.layers.BatchNormalization(name='upscale_block_' + name + '_bn')(_x)\n",
    "    _x = tf.keras.layers.ReLU(name='upscale_block_' + name + '_relu')(_x)\n",
    "    return _x\n",
    "\n",
    "def build_generator():\n",
    "    _input = tf.keras.Input(shape=[256, 256, 1], name='image_input')\n",
    "    x = downscale_conv2D(_input, 64, strides=1, name='0')\n",
    "    features = [x]\n",
    "    for i, n_filters in enumerate([64, 128, 256, 512, 512, 512, 512]):\n",
    "        x = downscale_conv2D(x, n_filters, name=str(i+1))\n",
    "        features.append(x)\n",
    "\n",
    "    for i, n_filters in enumerate([512, 512, 512, 256, 128, 64, 64]):\n",
    "        x = upscale_deconv2d(x, n_filters, name=str(i+1))\n",
    "        x = tf.keras.layers.Concatenate()([features[-(i+2)], x])\n",
    "    _output = tf.keras.layers.Conv2D(filters=3, \n",
    "                                     kernel_size=1, \n",
    "                                     strides=1, \n",
    "                                     padding='same',\n",
    "                                     name='output_conv2d', \n",
    "                                     activation='tanh')(x)\n",
    "    return tf.keras.Model(inputs=[_input], outputs=[_output], name='Generator')\n",
    "\n",
    "def build_discriminator():\n",
    "    _input = tf.keras.Input(shape=[256, 256,  4])\n",
    "    x = downscale_conv2D(_input, 64, strides=2, name='0', use_bn=False)\n",
    "    x = downscale_conv2D(x, 128, strides=2, name='1')\n",
    "    x = downscale_conv2D(x, 256, strides=2, name='2')\n",
    "    x = downscale_conv2D(x, 512, strides=1, name='3')\n",
    "    _output = tf.keras.layers.Conv2D(filters=1,\n",
    "                                     kernel_size=1, \n",
    "                                     strides=1, \n",
    "                                     padding='same', \n",
    "                                     name='output_conv2d', \n",
    "                                     activation=None)(x)\n",
    "    return tf.keras.Model(inputs=[_input], outputs=[_output], name='Discriminator')"
   ]
  },
  {
   "cell_type": "code",
   "execution_count": 3,
   "metadata": {},
   "outputs": [],
   "source": [
    "generator = build_generator()\n",
    "discriminator = build_discriminator()"
   ]
  },
  {
   "cell_type": "code",
   "execution_count": null,
   "metadata": {},
   "outputs": [],
   "source": []
  }
 ],
 "metadata": {
  "kernelspec": {
   "display_name": "Python 3",
   "language": "python",
   "name": "python3"
  },
  "language_info": {
   "codemirror_mode": {
    "name": "ipython",
    "version": 3
   },
   "file_extension": ".py",
   "mimetype": "text/x-python",
   "name": "python",
   "nbconvert_exporter": "python",
   "pygments_lexer": "ipython3",
   "version": "3.6.7"
  }
 },
 "nbformat": 4,
 "nbformat_minor": 4
}
